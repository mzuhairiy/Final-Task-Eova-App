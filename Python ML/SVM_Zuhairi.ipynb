{
  "nbformat": 4,
  "nbformat_minor": 0,
  "metadata": {
    "colab": {
      "name": "SVM_Zuhairi.ipynb",
      "provenance": [],
      "collapsed_sections": []
    },
    "kernelspec": {
      "name": "python3",
      "display_name": "Python 3"
    },
    "language_info": {
      "name": "python"
    }
  },
  "cells": [
    {
      "cell_type": "code",
      "execution_count": null,
      "metadata": {
        "id": "h-OknUQhPiga"
      },
      "outputs": [],
      "source": [
        "import pandas as pd\n",
        "import numpy as np\n",
        "import matplotlib.pyplot as plt\n",
        "\n",
        "from sklearn.neighbors._classification import KNeighborsClassifier\n",
        "from sklearn import svm\n",
        "from sklearn import ensemble\n",
        "\n",
        "from sklearn.metrics import accuracy_score\n",
        "from sklearn.model_selection import train_test_split\n",
        "from sklearn.metrics import confusion_matrix\n",
        "\n",
        "from sklearn.preprocessing import StandardScaler"
      ]
    },
    {
      "cell_type": "code",
      "source": [
        "from google.colab import drive\n",
        "drive.mount('/content/drive')"
      ],
      "metadata": {
        "colab": {
          "base_uri": "https://localhost:8080/"
        },
        "id": "LK2a7RbAPm4F",
        "outputId": "e2542a96-e17c-45cc-c863-20aa62963f70"
      },
      "execution_count": null,
      "outputs": [
        {
          "output_type": "stream",
          "name": "stdout",
          "text": [
            "Mounted at /content/drive\n"
          ]
        }
      ]
    },
    {
      "cell_type": "code",
      "source": [
        "data = pd.read_csv('drive/MyDrive/datasetkanker/dataset_kanker_60 - Copy.csv')\n",
        "data.sample(5)\n",
        "data.shape"
      ],
      "metadata": {
        "colab": {
          "base_uri": "https://localhost:8080/"
        },
        "id": "8n3jEk07Pozi",
        "outputId": "2437c182-fe21-4e45-f118-e32f9500ea74"
      },
      "execution_count": null,
      "outputs": [
        {
          "output_type": "execute_result",
          "data": {
            "text/plain": [
              "(172, 11)"
            ]
          },
          "metadata": {},
          "execution_count": 3
        }
      ]
    },
    {
      "cell_type": "code",
      "source": [
        "scaling = StandardScaler()\n",
        "\n",
        "for col in [\"PERUT TERASA MEMBESAR\", \"PERUT KEMBUNG\", \"NYERI PERUT\", \"MUAL/MUNTAH\", \"NAFSU MAKAN MENURUN\", \"CEPAT KENYANG\", \"GANGGUAN BAK\", \"GANGGUAN BAB\", \"GANGGUAN MENSTRUASI\", \"PENURUNAN BB\"]:\n",
        "  data[col] = scaling.fit_transform(data[col].values.reshape(-1,1))\n",
        "data.head()"
      ],
      "metadata": {
        "colab": {
          "base_uri": "https://localhost:8080/",
          "height": 267
        },
        "id": "RXKCsY-oPwvm",
        "outputId": "a49e4992-35f5-40ae-a237-37c6e79d6c49"
      },
      "execution_count": null,
      "outputs": [
        {
          "output_type": "execute_result",
          "data": {
            "text/plain": [
              "   PERUT TERASA MEMBESAR  PERUT KEMBUNG  NYERI PERUT  MUAL/MUNTAH  \\\n",
              "0               0.431517       1.047645     1.164545     1.072381   \n",
              "1               0.431517       1.047645     1.164545     1.072381   \n",
              "2              -2.317406      -0.954521    -0.858705    -0.932505   \n",
              "3               0.431517      -0.954521    -0.858705    -0.932505   \n",
              "4               0.431517       1.047645    -0.858705    -0.932505   \n",
              "\n",
              "   NAFSU MAKAN MENURUN  CEPAT KENYANG  GANGGUAN BAK  GANGGUAN BAB  \\\n",
              "0             0.828417       0.977008      3.019544      2.545243   \n",
              "1             0.828417       0.977008      3.019544      2.545243   \n",
              "2            -1.207122      -1.023533     -0.331176     -0.392890   \n",
              "3             0.828417      -1.023533     -0.331176     -0.392890   \n",
              "4            -1.207122      -1.023533     -0.331176      2.545243   \n",
              "\n",
              "   GANGGUAN MENSTRUASI  PENURUNAN BB  BENIGN/MALIGNANCY  \n",
              "0             1.221783      0.789076                  3  \n",
              "1             1.221783      0.789076                  3  \n",
              "2            -0.818476     -1.267304                  2  \n",
              "3            -0.818476      0.789076                  2  \n",
              "4             1.221783     -1.267304                  3  "
            ],
            "text/html": [
              "\n",
              "  <div id=\"df-fa4a0240-de7d-4873-8f4b-92c1e8c131cd\">\n",
              "    <div class=\"colab-df-container\">\n",
              "      <div>\n",
              "<style scoped>\n",
              "    .dataframe tbody tr th:only-of-type {\n",
              "        vertical-align: middle;\n",
              "    }\n",
              "\n",
              "    .dataframe tbody tr th {\n",
              "        vertical-align: top;\n",
              "    }\n",
              "\n",
              "    .dataframe thead th {\n",
              "        text-align: right;\n",
              "    }\n",
              "</style>\n",
              "<table border=\"1\" class=\"dataframe\">\n",
              "  <thead>\n",
              "    <tr style=\"text-align: right;\">\n",
              "      <th></th>\n",
              "      <th>PERUT TERASA MEMBESAR</th>\n",
              "      <th>PERUT KEMBUNG</th>\n",
              "      <th>NYERI PERUT</th>\n",
              "      <th>MUAL/MUNTAH</th>\n",
              "      <th>NAFSU MAKAN MENURUN</th>\n",
              "      <th>CEPAT KENYANG</th>\n",
              "      <th>GANGGUAN BAK</th>\n",
              "      <th>GANGGUAN BAB</th>\n",
              "      <th>GANGGUAN MENSTRUASI</th>\n",
              "      <th>PENURUNAN BB</th>\n",
              "      <th>BENIGN/MALIGNANCY</th>\n",
              "    </tr>\n",
              "  </thead>\n",
              "  <tbody>\n",
              "    <tr>\n",
              "      <th>0</th>\n",
              "      <td>0.431517</td>\n",
              "      <td>1.047645</td>\n",
              "      <td>1.164545</td>\n",
              "      <td>1.072381</td>\n",
              "      <td>0.828417</td>\n",
              "      <td>0.977008</td>\n",
              "      <td>3.019544</td>\n",
              "      <td>2.545243</td>\n",
              "      <td>1.221783</td>\n",
              "      <td>0.789076</td>\n",
              "      <td>3</td>\n",
              "    </tr>\n",
              "    <tr>\n",
              "      <th>1</th>\n",
              "      <td>0.431517</td>\n",
              "      <td>1.047645</td>\n",
              "      <td>1.164545</td>\n",
              "      <td>1.072381</td>\n",
              "      <td>0.828417</td>\n",
              "      <td>0.977008</td>\n",
              "      <td>3.019544</td>\n",
              "      <td>2.545243</td>\n",
              "      <td>1.221783</td>\n",
              "      <td>0.789076</td>\n",
              "      <td>3</td>\n",
              "    </tr>\n",
              "    <tr>\n",
              "      <th>2</th>\n",
              "      <td>-2.317406</td>\n",
              "      <td>-0.954521</td>\n",
              "      <td>-0.858705</td>\n",
              "      <td>-0.932505</td>\n",
              "      <td>-1.207122</td>\n",
              "      <td>-1.023533</td>\n",
              "      <td>-0.331176</td>\n",
              "      <td>-0.392890</td>\n",
              "      <td>-0.818476</td>\n",
              "      <td>-1.267304</td>\n",
              "      <td>2</td>\n",
              "    </tr>\n",
              "    <tr>\n",
              "      <th>3</th>\n",
              "      <td>0.431517</td>\n",
              "      <td>-0.954521</td>\n",
              "      <td>-0.858705</td>\n",
              "      <td>-0.932505</td>\n",
              "      <td>0.828417</td>\n",
              "      <td>-1.023533</td>\n",
              "      <td>-0.331176</td>\n",
              "      <td>-0.392890</td>\n",
              "      <td>-0.818476</td>\n",
              "      <td>0.789076</td>\n",
              "      <td>2</td>\n",
              "    </tr>\n",
              "    <tr>\n",
              "      <th>4</th>\n",
              "      <td>0.431517</td>\n",
              "      <td>1.047645</td>\n",
              "      <td>-0.858705</td>\n",
              "      <td>-0.932505</td>\n",
              "      <td>-1.207122</td>\n",
              "      <td>-1.023533</td>\n",
              "      <td>-0.331176</td>\n",
              "      <td>2.545243</td>\n",
              "      <td>1.221783</td>\n",
              "      <td>-1.267304</td>\n",
              "      <td>3</td>\n",
              "    </tr>\n",
              "  </tbody>\n",
              "</table>\n",
              "</div>\n",
              "      <button class=\"colab-df-convert\" onclick=\"convertToInteractive('df-fa4a0240-de7d-4873-8f4b-92c1e8c131cd')\"\n",
              "              title=\"Convert this dataframe to an interactive table.\"\n",
              "              style=\"display:none;\">\n",
              "        \n",
              "  <svg xmlns=\"http://www.w3.org/2000/svg\" height=\"24px\"viewBox=\"0 0 24 24\"\n",
              "       width=\"24px\">\n",
              "    <path d=\"M0 0h24v24H0V0z\" fill=\"none\"/>\n",
              "    <path d=\"M18.56 5.44l.94 2.06.94-2.06 2.06-.94-2.06-.94-.94-2.06-.94 2.06-2.06.94zm-11 1L8.5 8.5l.94-2.06 2.06-.94-2.06-.94L8.5 2.5l-.94 2.06-2.06.94zm10 10l.94 2.06.94-2.06 2.06-.94-2.06-.94-.94-2.06-.94 2.06-2.06.94z\"/><path d=\"M17.41 7.96l-1.37-1.37c-.4-.4-.92-.59-1.43-.59-.52 0-1.04.2-1.43.59L10.3 9.45l-7.72 7.72c-.78.78-.78 2.05 0 2.83L4 21.41c.39.39.9.59 1.41.59.51 0 1.02-.2 1.41-.59l7.78-7.78 2.81-2.81c.8-.78.8-2.07 0-2.86zM5.41 20L4 18.59l7.72-7.72 1.47 1.35L5.41 20z\"/>\n",
              "  </svg>\n",
              "      </button>\n",
              "      \n",
              "  <style>\n",
              "    .colab-df-container {\n",
              "      display:flex;\n",
              "      flex-wrap:wrap;\n",
              "      gap: 12px;\n",
              "    }\n",
              "\n",
              "    .colab-df-convert {\n",
              "      background-color: #E8F0FE;\n",
              "      border: none;\n",
              "      border-radius: 50%;\n",
              "      cursor: pointer;\n",
              "      display: none;\n",
              "      fill: #1967D2;\n",
              "      height: 32px;\n",
              "      padding: 0 0 0 0;\n",
              "      width: 32px;\n",
              "    }\n",
              "\n",
              "    .colab-df-convert:hover {\n",
              "      background-color: #E2EBFA;\n",
              "      box-shadow: 0px 1px 2px rgba(60, 64, 67, 0.3), 0px 1px 3px 1px rgba(60, 64, 67, 0.15);\n",
              "      fill: #174EA6;\n",
              "    }\n",
              "\n",
              "    [theme=dark] .colab-df-convert {\n",
              "      background-color: #3B4455;\n",
              "      fill: #D2E3FC;\n",
              "    }\n",
              "\n",
              "    [theme=dark] .colab-df-convert:hover {\n",
              "      background-color: #434B5C;\n",
              "      box-shadow: 0px 1px 3px 1px rgba(0, 0, 0, 0.15);\n",
              "      filter: drop-shadow(0px 1px 2px rgba(0, 0, 0, 0.3));\n",
              "      fill: #FFFFFF;\n",
              "    }\n",
              "  </style>\n",
              "\n",
              "      <script>\n",
              "        const buttonEl =\n",
              "          document.querySelector('#df-fa4a0240-de7d-4873-8f4b-92c1e8c131cd button.colab-df-convert');\n",
              "        buttonEl.style.display =\n",
              "          google.colab.kernel.accessAllowed ? 'block' : 'none';\n",
              "\n",
              "        async function convertToInteractive(key) {\n",
              "          const element = document.querySelector('#df-fa4a0240-de7d-4873-8f4b-92c1e8c131cd');\n",
              "          const dataTable =\n",
              "            await google.colab.kernel.invokeFunction('convertToInteractive',\n",
              "                                                     [key], {});\n",
              "          if (!dataTable) return;\n",
              "\n",
              "          const docLinkHtml = 'Like what you see? Visit the ' +\n",
              "            '<a target=\"_blank\" href=https://colab.research.google.com/notebooks/data_table.ipynb>data table notebook</a>'\n",
              "            + ' to learn more about interactive tables.';\n",
              "          element.innerHTML = '';\n",
              "          dataTable['output_type'] = 'display_data';\n",
              "          await google.colab.output.renderOutput(dataTable, element);\n",
              "          const docLink = document.createElement('div');\n",
              "          docLink.innerHTML = docLinkHtml;\n",
              "          element.appendChild(docLink);\n",
              "        }\n",
              "      </script>\n",
              "    </div>\n",
              "  </div>\n",
              "  "
            ]
          },
          "metadata": {},
          "execution_count": 4
        }
      ]
    },
    {
      "cell_type": "code",
      "source": [
        "data.describe()"
      ],
      "metadata": {
        "colab": {
          "base_uri": "https://localhost:8080/",
          "height": 382
        },
        "id": "YYK8WMG8PtqW",
        "outputId": "7b572693-c5a5-42da-ed54-8832a98fdad7"
      },
      "execution_count": null,
      "outputs": [
        {
          "output_type": "execute_result",
          "data": {
            "text/plain": [
              "       PERUT TERASA MEMBESAR  PERUT KEMBUNG  NYERI PERUT   MUAL/MUNTAH  \\\n",
              "count           1.720000e+02   1.720000e+02   172.000000  1.720000e+02   \n",
              "mean           -8.262125e-17   3.485584e-17     0.000000 -1.549148e-17   \n",
              "std             1.002920e+00   1.002920e+00     1.002920  1.002920e+00   \n",
              "min            -2.317406e+00  -9.545214e-01    -0.858705 -9.325048e-01   \n",
              "25%             4.315170e-01  -9.545214e-01    -0.858705 -9.325048e-01   \n",
              "50%             4.315170e-01  -9.545214e-01    -0.858705 -9.325048e-01   \n",
              "75%             4.315170e-01   1.047645e+00     1.164545  1.072381e+00   \n",
              "max             4.315170e-01   1.047645e+00     1.164545  1.072381e+00   \n",
              "\n",
              "       NAFSU MAKAN MENURUN  CEPAT KENYANG  GANGGUAN BAK  GANGGUAN BAB  \\\n",
              "count         1.720000e+02   1.720000e+02  1.720000e+02  1.720000e+02   \n",
              "mean         -1.032766e-16  -2.065531e-17  2.065531e-17  8.520316e-17   \n",
              "std           1.002920e+00   1.002920e+00  1.002920e+00  1.002920e+00   \n",
              "min          -1.207122e+00  -1.023533e+00 -3.311758e-01 -3.928898e-01   \n",
              "25%          -1.207122e+00  -1.023533e+00 -3.311758e-01 -3.928898e-01   \n",
              "50%           8.284169e-01   9.770084e-01 -3.311758e-01 -3.928898e-01   \n",
              "75%           8.284169e-01   9.770084e-01 -3.311758e-01 -3.928898e-01   \n",
              "max           8.284169e-01   9.770084e-01  3.019544e+00  2.545243e+00   \n",
              "\n",
              "       GANGGUAN MENSTRUASI  PENURUNAN BB  BENIGN/MALIGNANCY  \n",
              "count         1.720000e+02    172.000000         172.000000  \n",
              "mean          4.131062e-17      0.000000           2.534884  \n",
              "std           1.002920e+00      1.002920           0.500238  \n",
              "min          -8.184760e-01     -1.267304           2.000000  \n",
              "25%          -8.184760e-01     -1.267304           2.000000  \n",
              "50%          -8.184760e-01      0.789076           3.000000  \n",
              "75%           1.221783e+00      0.789076           3.000000  \n",
              "max           1.221783e+00      0.789076           3.000000  "
            ],
            "text/html": [
              "\n",
              "  <div id=\"df-e5065461-708e-422e-8dbc-d37a3d98b0c5\">\n",
              "    <div class=\"colab-df-container\">\n",
              "      <div>\n",
              "<style scoped>\n",
              "    .dataframe tbody tr th:only-of-type {\n",
              "        vertical-align: middle;\n",
              "    }\n",
              "\n",
              "    .dataframe tbody tr th {\n",
              "        vertical-align: top;\n",
              "    }\n",
              "\n",
              "    .dataframe thead th {\n",
              "        text-align: right;\n",
              "    }\n",
              "</style>\n",
              "<table border=\"1\" class=\"dataframe\">\n",
              "  <thead>\n",
              "    <tr style=\"text-align: right;\">\n",
              "      <th></th>\n",
              "      <th>PERUT TERASA MEMBESAR</th>\n",
              "      <th>PERUT KEMBUNG</th>\n",
              "      <th>NYERI PERUT</th>\n",
              "      <th>MUAL/MUNTAH</th>\n",
              "      <th>NAFSU MAKAN MENURUN</th>\n",
              "      <th>CEPAT KENYANG</th>\n",
              "      <th>GANGGUAN BAK</th>\n",
              "      <th>GANGGUAN BAB</th>\n",
              "      <th>GANGGUAN MENSTRUASI</th>\n",
              "      <th>PENURUNAN BB</th>\n",
              "      <th>BENIGN/MALIGNANCY</th>\n",
              "    </tr>\n",
              "  </thead>\n",
              "  <tbody>\n",
              "    <tr>\n",
              "      <th>count</th>\n",
              "      <td>1.720000e+02</td>\n",
              "      <td>1.720000e+02</td>\n",
              "      <td>172.000000</td>\n",
              "      <td>1.720000e+02</td>\n",
              "      <td>1.720000e+02</td>\n",
              "      <td>1.720000e+02</td>\n",
              "      <td>1.720000e+02</td>\n",
              "      <td>1.720000e+02</td>\n",
              "      <td>1.720000e+02</td>\n",
              "      <td>172.000000</td>\n",
              "      <td>172.000000</td>\n",
              "    </tr>\n",
              "    <tr>\n",
              "      <th>mean</th>\n",
              "      <td>-8.262125e-17</td>\n",
              "      <td>3.485584e-17</td>\n",
              "      <td>0.000000</td>\n",
              "      <td>-1.549148e-17</td>\n",
              "      <td>-1.032766e-16</td>\n",
              "      <td>-2.065531e-17</td>\n",
              "      <td>2.065531e-17</td>\n",
              "      <td>8.520316e-17</td>\n",
              "      <td>4.131062e-17</td>\n",
              "      <td>0.000000</td>\n",
              "      <td>2.534884</td>\n",
              "    </tr>\n",
              "    <tr>\n",
              "      <th>std</th>\n",
              "      <td>1.002920e+00</td>\n",
              "      <td>1.002920e+00</td>\n",
              "      <td>1.002920</td>\n",
              "      <td>1.002920e+00</td>\n",
              "      <td>1.002920e+00</td>\n",
              "      <td>1.002920e+00</td>\n",
              "      <td>1.002920e+00</td>\n",
              "      <td>1.002920e+00</td>\n",
              "      <td>1.002920e+00</td>\n",
              "      <td>1.002920</td>\n",
              "      <td>0.500238</td>\n",
              "    </tr>\n",
              "    <tr>\n",
              "      <th>min</th>\n",
              "      <td>-2.317406e+00</td>\n",
              "      <td>-9.545214e-01</td>\n",
              "      <td>-0.858705</td>\n",
              "      <td>-9.325048e-01</td>\n",
              "      <td>-1.207122e+00</td>\n",
              "      <td>-1.023533e+00</td>\n",
              "      <td>-3.311758e-01</td>\n",
              "      <td>-3.928898e-01</td>\n",
              "      <td>-8.184760e-01</td>\n",
              "      <td>-1.267304</td>\n",
              "      <td>2.000000</td>\n",
              "    </tr>\n",
              "    <tr>\n",
              "      <th>25%</th>\n",
              "      <td>4.315170e-01</td>\n",
              "      <td>-9.545214e-01</td>\n",
              "      <td>-0.858705</td>\n",
              "      <td>-9.325048e-01</td>\n",
              "      <td>-1.207122e+00</td>\n",
              "      <td>-1.023533e+00</td>\n",
              "      <td>-3.311758e-01</td>\n",
              "      <td>-3.928898e-01</td>\n",
              "      <td>-8.184760e-01</td>\n",
              "      <td>-1.267304</td>\n",
              "      <td>2.000000</td>\n",
              "    </tr>\n",
              "    <tr>\n",
              "      <th>50%</th>\n",
              "      <td>4.315170e-01</td>\n",
              "      <td>-9.545214e-01</td>\n",
              "      <td>-0.858705</td>\n",
              "      <td>-9.325048e-01</td>\n",
              "      <td>8.284169e-01</td>\n",
              "      <td>9.770084e-01</td>\n",
              "      <td>-3.311758e-01</td>\n",
              "      <td>-3.928898e-01</td>\n",
              "      <td>-8.184760e-01</td>\n",
              "      <td>0.789076</td>\n",
              "      <td>3.000000</td>\n",
              "    </tr>\n",
              "    <tr>\n",
              "      <th>75%</th>\n",
              "      <td>4.315170e-01</td>\n",
              "      <td>1.047645e+00</td>\n",
              "      <td>1.164545</td>\n",
              "      <td>1.072381e+00</td>\n",
              "      <td>8.284169e-01</td>\n",
              "      <td>9.770084e-01</td>\n",
              "      <td>-3.311758e-01</td>\n",
              "      <td>-3.928898e-01</td>\n",
              "      <td>1.221783e+00</td>\n",
              "      <td>0.789076</td>\n",
              "      <td>3.000000</td>\n",
              "    </tr>\n",
              "    <tr>\n",
              "      <th>max</th>\n",
              "      <td>4.315170e-01</td>\n",
              "      <td>1.047645e+00</td>\n",
              "      <td>1.164545</td>\n",
              "      <td>1.072381e+00</td>\n",
              "      <td>8.284169e-01</td>\n",
              "      <td>9.770084e-01</td>\n",
              "      <td>3.019544e+00</td>\n",
              "      <td>2.545243e+00</td>\n",
              "      <td>1.221783e+00</td>\n",
              "      <td>0.789076</td>\n",
              "      <td>3.000000</td>\n",
              "    </tr>\n",
              "  </tbody>\n",
              "</table>\n",
              "</div>\n",
              "      <button class=\"colab-df-convert\" onclick=\"convertToInteractive('df-e5065461-708e-422e-8dbc-d37a3d98b0c5')\"\n",
              "              title=\"Convert this dataframe to an interactive table.\"\n",
              "              style=\"display:none;\">\n",
              "        \n",
              "  <svg xmlns=\"http://www.w3.org/2000/svg\" height=\"24px\"viewBox=\"0 0 24 24\"\n",
              "       width=\"24px\">\n",
              "    <path d=\"M0 0h24v24H0V0z\" fill=\"none\"/>\n",
              "    <path d=\"M18.56 5.44l.94 2.06.94-2.06 2.06-.94-2.06-.94-.94-2.06-.94 2.06-2.06.94zm-11 1L8.5 8.5l.94-2.06 2.06-.94-2.06-.94L8.5 2.5l-.94 2.06-2.06.94zm10 10l.94 2.06.94-2.06 2.06-.94-2.06-.94-.94-2.06-.94 2.06-2.06.94z\"/><path d=\"M17.41 7.96l-1.37-1.37c-.4-.4-.92-.59-1.43-.59-.52 0-1.04.2-1.43.59L10.3 9.45l-7.72 7.72c-.78.78-.78 2.05 0 2.83L4 21.41c.39.39.9.59 1.41.59.51 0 1.02-.2 1.41-.59l7.78-7.78 2.81-2.81c.8-.78.8-2.07 0-2.86zM5.41 20L4 18.59l7.72-7.72 1.47 1.35L5.41 20z\"/>\n",
              "  </svg>\n",
              "      </button>\n",
              "      \n",
              "  <style>\n",
              "    .colab-df-container {\n",
              "      display:flex;\n",
              "      flex-wrap:wrap;\n",
              "      gap: 12px;\n",
              "    }\n",
              "\n",
              "    .colab-df-convert {\n",
              "      background-color: #E8F0FE;\n",
              "      border: none;\n",
              "      border-radius: 50%;\n",
              "      cursor: pointer;\n",
              "      display: none;\n",
              "      fill: #1967D2;\n",
              "      height: 32px;\n",
              "      padding: 0 0 0 0;\n",
              "      width: 32px;\n",
              "    }\n",
              "\n",
              "    .colab-df-convert:hover {\n",
              "      background-color: #E2EBFA;\n",
              "      box-shadow: 0px 1px 2px rgba(60, 64, 67, 0.3), 0px 1px 3px 1px rgba(60, 64, 67, 0.15);\n",
              "      fill: #174EA6;\n",
              "    }\n",
              "\n",
              "    [theme=dark] .colab-df-convert {\n",
              "      background-color: #3B4455;\n",
              "      fill: #D2E3FC;\n",
              "    }\n",
              "\n",
              "    [theme=dark] .colab-df-convert:hover {\n",
              "      background-color: #434B5C;\n",
              "      box-shadow: 0px 1px 3px 1px rgba(0, 0, 0, 0.15);\n",
              "      filter: drop-shadow(0px 1px 2px rgba(0, 0, 0, 0.3));\n",
              "      fill: #FFFFFF;\n",
              "    }\n",
              "  </style>\n",
              "\n",
              "      <script>\n",
              "        const buttonEl =\n",
              "          document.querySelector('#df-e5065461-708e-422e-8dbc-d37a3d98b0c5 button.colab-df-convert');\n",
              "        buttonEl.style.display =\n",
              "          google.colab.kernel.accessAllowed ? 'block' : 'none';\n",
              "\n",
              "        async function convertToInteractive(key) {\n",
              "          const element = document.querySelector('#df-e5065461-708e-422e-8dbc-d37a3d98b0c5');\n",
              "          const dataTable =\n",
              "            await google.colab.kernel.invokeFunction('convertToInteractive',\n",
              "                                                     [key], {});\n",
              "          if (!dataTable) return;\n",
              "\n",
              "          const docLinkHtml = 'Like what you see? Visit the ' +\n",
              "            '<a target=\"_blank\" href=https://colab.research.google.com/notebooks/data_table.ipynb>data table notebook</a>'\n",
              "            + ' to learn more about interactive tables.';\n",
              "          element.innerHTML = '';\n",
              "          dataTable['output_type'] = 'display_data';\n",
              "          await google.colab.output.renderOutput(dataTable, element);\n",
              "          const docLink = document.createElement('div');\n",
              "          docLink.innerHTML = docLinkHtml;\n",
              "          element.appendChild(docLink);\n",
              "        }\n",
              "      </script>\n",
              "    </div>\n",
              "  </div>\n",
              "  "
            ]
          },
          "metadata": {},
          "execution_count": 5
        }
      ]
    },
    {
      "cell_type": "code",
      "source": [
        "X = data.iloc[:,:-1]\n",
        "y = data.iloc[:,-1]"
      ],
      "metadata": {
        "id": "-s3izMmmPy1k"
      },
      "execution_count": null,
      "outputs": []
    },
    {
      "cell_type": "code",
      "source": [
        "X_train,X_test, y_train,y_test = train_test_split(X,y,test_size=0.3, random_state=0)"
      ],
      "metadata": {
        "id": "SMPBuMKLP05j"
      },
      "execution_count": null,
      "outputs": []
    },
    {
      "cell_type": "code",
      "source": [
        "X_test.shape"
      ],
      "metadata": {
        "colab": {
          "base_uri": "https://localhost:8080/"
        },
        "id": "E3cMEwEeP2D5",
        "outputId": "f96d0cb8-2d92-4d00-b8bd-1d4e2b84d38e"
      },
      "execution_count": null,
      "outputs": [
        {
          "output_type": "execute_result",
          "data": {
            "text/plain": [
              "(52, 10)"
            ]
          },
          "metadata": {},
          "execution_count": 8
        }
      ]
    },
    {
      "cell_type": "markdown",
      "source": [],
      "metadata": {
        "id": "5ZPiUQwrP6UF"
      }
    },
    {
      "cell_type": "code",
      "source": [
        "clf = svm.SVC(kernel=\"linear\")"
      ],
      "metadata": {
        "id": "7j3xZaR7P86l"
      },
      "execution_count": null,
      "outputs": []
    },
    {
      "cell_type": "code",
      "source": [
        "clf.fit(X_train,y_train)"
      ],
      "metadata": {
        "colab": {
          "base_uri": "https://localhost:8080/"
        },
        "id": "oiW4MmtyRCjX",
        "outputId": "ca08bfe7-e048-45dd-dbec-d71a5406e002"
      },
      "execution_count": null,
      "outputs": [
        {
          "output_type": "execute_result",
          "data": {
            "text/plain": [
              "SVC(kernel='linear')"
            ]
          },
          "metadata": {},
          "execution_count": 10
        }
      ]
    },
    {
      "cell_type": "code",
      "source": [
        "y_prediksi = clf.predict(X_test)\n",
        "print(\"Y asli      = \",y_test.values)\n",
        "print(\"Y_prediksi  = \",y_prediksi)"
      ],
      "metadata": {
        "id": "kdr3jNXsRIAY",
        "outputId": "5d2bed94-f4d3-424a-aa83-5acc4ca38c91",
        "colab": {
          "base_uri": "https://localhost:8080/"
        }
      },
      "execution_count": null,
      "outputs": [
        {
          "output_type": "stream",
          "name": "stdout",
          "text": [
            "Y asli      =  [2 2 2 3 2 2 3 3 3 2 2 3 3 2 3 2 3 2 3 3 3 2 3 3 2 3 2 3 3 3 2 2 2 2 2 2 2\n",
            " 3 2 3 2 3 3 3 3 3 3 2 2 2 2 3]\n",
            "Y_prediksi  =  [2 2 2 3 2 2 3 3 3 2 2 3 3 3 3 3 2 3 3 3 3 2 2 3 3 3 3 3 3 3 2 2 2 3 3 3 2\n",
            " 2 2 3 3 3 2 3 3 3 3 3 2 2 2 3]\n"
          ]
        }
      ]
    },
    {
      "cell_type": "code",
      "source": [
        "tn, fp, fn, tp = confusion_matrix(y_test, y_prediksi).ravel()\n",
        "tn, fp, fn, tp"
      ],
      "metadata": {
        "id": "UZeteDPbRJ0Z",
        "outputId": "c1d32c65-b689-49a4-f3b0-c0fef3deef55",
        "colab": {
          "base_uri": "https://localhost:8080/"
        }
      },
      "execution_count": null,
      "outputs": [
        {
          "output_type": "execute_result",
          "data": {
            "text/plain": [
              "(16, 10, 4, 22)"
            ]
          },
          "metadata": {},
          "execution_count": 12
        }
      ]
    },
    {
      "cell_type": "code",
      "source": [
        "akurasi = (tp + tn) / (tp + fp + tn + fn)\n",
        "er = (fp + fn) / (tp + fp + tn + fn)\n",
        "recall = tp / (tp + fn)\n",
        "specificity = tn / (fp + tn)\n",
        "precision = tp / (tp + fp)\n",
        "fscore = (2 * precision * recall) / (precision + recall)\n",
        "print(\"Akurasi = \", round(akurasi,3))\n",
        "print(\"Error Rate = \", round(er,3))\n",
        "print(\"Recall = \", round(recall,3))\n",
        "print(\"Specificity = \", round(specificity,3))\n",
        "print(\"Precision = \", round(precision,3))\n",
        "print(\"F-Score = \", round(fscore,3))"
      ],
      "metadata": {
        "id": "UC_sFhAdRMqf",
        "outputId": "6c42f1e8-dc1c-4259-f567-f70c2c430451",
        "colab": {
          "base_uri": "https://localhost:8080/"
        }
      },
      "execution_count": null,
      "outputs": [
        {
          "output_type": "stream",
          "name": "stdout",
          "text": [
            "Akurasi =  0.731\n",
            "Error Rate =  0.269\n",
            "Recall =  0.846\n",
            "Specificity =  0.615\n",
            "Precision =  0.688\n",
            "F-Score =  0.759\n"
          ]
        }
      ]
    }
  ]
}