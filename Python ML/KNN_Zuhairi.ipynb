{
  "cells": [
    {
      "cell_type": "markdown",
      "metadata": {
        "id": "hKYr-eIl1zmM"
      },
      "source": [
        "### Import Library"
      ]
    },
    {
      "cell_type": "code",
      "execution_count": null,
      "metadata": {
        "id": "fe1Uxr4e-V3B"
      },
      "outputs": [],
      "source": [
        "import pandas as pd\n",
        "import numpy as np\n",
        "import matplotlib.pyplot as plt\n",
        "\n",
        "from sklearn.neighbors._classification import KNeighborsClassifier\n",
        "\n",
        "from sklearn.metrics import accuracy_score\n",
        "from sklearn.model_selection import train_test_split\n",
        "from sklearn.metrics import confusion_matrix\n",
        "\n",
        "from sklearn.preprocessing import StandardScaler"
      ]
    },
    {
      "cell_type": "markdown",
      "metadata": {
        "id": "6GPcPWW619cI"
      },
      "source": [
        "### Connect Drive"
      ]
    },
    {
      "cell_type": "code",
      "execution_count": null,
      "metadata": {
        "id": "eUsZ-0Hs_Pba",
        "colab": {
          "base_uri": "https://localhost:8080/"
        },
        "outputId": "4a1fa9fa-0bf4-42da-81f7-ebe91afb3212"
      },
      "outputs": [
        {
          "output_type": "stream",
          "name": "stdout",
          "text": [
            "Mounted at /content/drive\n"
          ]
        }
      ],
      "source": [
        "from google.colab import drive\n",
        "drive.mount('/content/drive')"
      ]
    },
    {
      "cell_type": "markdown",
      "metadata": {
        "id": "wZiDxJSn2Dkz"
      },
      "source": [
        "### Import Dataset Kanker"
      ]
    },
    {
      "cell_type": "code",
      "execution_count": null,
      "metadata": {
        "id": "sEH_neesGI56",
        "colab": {
          "base_uri": "https://localhost:8080/"
        },
        "outputId": "b5cb6098-66e6-4d73-f0d7-4053f9fdc3cd"
      },
      "outputs": [
        {
          "output_type": "execute_result",
          "data": {
            "text/plain": [
              "(172, 11)"
            ]
          },
          "metadata": {},
          "execution_count": 3
        }
      ],
      "source": [
        "data = pd.read_csv('drive/MyDrive/datasetkanker/dataset_kanker_60 - Copy.csv')\n",
        "data.sample(10)\n",
        "data.shape"
      ]
    },
    {
      "cell_type": "markdown",
      "metadata": {
        "id": "60ADdfqdG_WV"
      },
      "source": [
        "### **Scaling**"
      ]
    },
    {
      "cell_type": "code",
      "execution_count": null,
      "metadata": {
        "id": "769x1l7yHGm2",
        "colab": {
          "base_uri": "https://localhost:8080/",
          "height": 379
        },
        "outputId": "dc6bc052-2a3d-4ba8-c54e-69d23a045758"
      },
      "outputs": [
        {
          "output_type": "execute_result",
          "data": {
            "text/plain": [
              "       PERUT TERASA MEMBESAR  PERUT KEMBUNG  NYERI PERUT  MUAL/MUNTAH  \\\n",
              "count             172.000000     172.000000   172.000000   172.000000   \n",
              "mean                0.843023       0.476744     0.424419     0.465116   \n",
              "std                 0.364841       0.500917     0.495698     0.500238   \n",
              "min                 0.000000       0.000000     0.000000     0.000000   \n",
              "25%                 1.000000       0.000000     0.000000     0.000000   \n",
              "50%                 1.000000       0.000000     0.000000     0.000000   \n",
              "75%                 1.000000       1.000000     1.000000     1.000000   \n",
              "max                 1.000000       1.000000     1.000000     1.000000   \n",
              "\n",
              "       NAFSU MAKAN MENURUN  CEPAT KENYANG  GANGGUAN BAK  GANGGUAN BAB  \\\n",
              "count           172.000000     172.000000    172.000000    172.000000   \n",
              "mean              0.593023       0.511628      0.098837      0.133721   \n",
              "std               0.492705       0.501324      0.299315      0.341346   \n",
              "min               0.000000       0.000000      0.000000      0.000000   \n",
              "25%               0.000000       0.000000      0.000000      0.000000   \n",
              "50%               1.000000       1.000000      0.000000      0.000000   \n",
              "75%               1.000000       1.000000      0.000000      0.000000   \n",
              "max               1.000000       1.000000      1.000000      1.000000   \n",
              "\n",
              "       GANGGUAN MENSTRUASI  PENURUNAN BB  BENIGN/MALIGNANCY  \n",
              "count           172.000000    172.000000         172.000000  \n",
              "mean              0.401163      0.616279           2.534884  \n",
              "std               0.491565      0.487711           0.500238  \n",
              "min               0.000000      0.000000           2.000000  \n",
              "25%               0.000000      0.000000           2.000000  \n",
              "50%               0.000000      1.000000           3.000000  \n",
              "75%               1.000000      1.000000           3.000000  \n",
              "max               1.000000      1.000000           3.000000  "
            ],
            "text/html": [
              "\n",
              "  <div id=\"df-226ea5ff-11d7-4274-9bca-ea70449d41bc\">\n",
              "    <div class=\"colab-df-container\">\n",
              "      <div>\n",
              "<style scoped>\n",
              "    .dataframe tbody tr th:only-of-type {\n",
              "        vertical-align: middle;\n",
              "    }\n",
              "\n",
              "    .dataframe tbody tr th {\n",
              "        vertical-align: top;\n",
              "    }\n",
              "\n",
              "    .dataframe thead th {\n",
              "        text-align: right;\n",
              "    }\n",
              "</style>\n",
              "<table border=\"1\" class=\"dataframe\">\n",
              "  <thead>\n",
              "    <tr style=\"text-align: right;\">\n",
              "      <th></th>\n",
              "      <th>PERUT TERASA MEMBESAR</th>\n",
              "      <th>PERUT KEMBUNG</th>\n",
              "      <th>NYERI PERUT</th>\n",
              "      <th>MUAL/MUNTAH</th>\n",
              "      <th>NAFSU MAKAN MENURUN</th>\n",
              "      <th>CEPAT KENYANG</th>\n",
              "      <th>GANGGUAN BAK</th>\n",
              "      <th>GANGGUAN BAB</th>\n",
              "      <th>GANGGUAN MENSTRUASI</th>\n",
              "      <th>PENURUNAN BB</th>\n",
              "      <th>BENIGN/MALIGNANCY</th>\n",
              "    </tr>\n",
              "  </thead>\n",
              "  <tbody>\n",
              "    <tr>\n",
              "      <th>count</th>\n",
              "      <td>172.000000</td>\n",
              "      <td>172.000000</td>\n",
              "      <td>172.000000</td>\n",
              "      <td>172.000000</td>\n",
              "      <td>172.000000</td>\n",
              "      <td>172.000000</td>\n",
              "      <td>172.000000</td>\n",
              "      <td>172.000000</td>\n",
              "      <td>172.000000</td>\n",
              "      <td>172.000000</td>\n",
              "      <td>172.000000</td>\n",
              "    </tr>\n",
              "    <tr>\n",
              "      <th>mean</th>\n",
              "      <td>0.843023</td>\n",
              "      <td>0.476744</td>\n",
              "      <td>0.424419</td>\n",
              "      <td>0.465116</td>\n",
              "      <td>0.593023</td>\n",
              "      <td>0.511628</td>\n",
              "      <td>0.098837</td>\n",
              "      <td>0.133721</td>\n",
              "      <td>0.401163</td>\n",
              "      <td>0.616279</td>\n",
              "      <td>2.534884</td>\n",
              "    </tr>\n",
              "    <tr>\n",
              "      <th>std</th>\n",
              "      <td>0.364841</td>\n",
              "      <td>0.500917</td>\n",
              "      <td>0.495698</td>\n",
              "      <td>0.500238</td>\n",
              "      <td>0.492705</td>\n",
              "      <td>0.501324</td>\n",
              "      <td>0.299315</td>\n",
              "      <td>0.341346</td>\n",
              "      <td>0.491565</td>\n",
              "      <td>0.487711</td>\n",
              "      <td>0.500238</td>\n",
              "    </tr>\n",
              "    <tr>\n",
              "      <th>min</th>\n",
              "      <td>0.000000</td>\n",
              "      <td>0.000000</td>\n",
              "      <td>0.000000</td>\n",
              "      <td>0.000000</td>\n",
              "      <td>0.000000</td>\n",
              "      <td>0.000000</td>\n",
              "      <td>0.000000</td>\n",
              "      <td>0.000000</td>\n",
              "      <td>0.000000</td>\n",
              "      <td>0.000000</td>\n",
              "      <td>2.000000</td>\n",
              "    </tr>\n",
              "    <tr>\n",
              "      <th>25%</th>\n",
              "      <td>1.000000</td>\n",
              "      <td>0.000000</td>\n",
              "      <td>0.000000</td>\n",
              "      <td>0.000000</td>\n",
              "      <td>0.000000</td>\n",
              "      <td>0.000000</td>\n",
              "      <td>0.000000</td>\n",
              "      <td>0.000000</td>\n",
              "      <td>0.000000</td>\n",
              "      <td>0.000000</td>\n",
              "      <td>2.000000</td>\n",
              "    </tr>\n",
              "    <tr>\n",
              "      <th>50%</th>\n",
              "      <td>1.000000</td>\n",
              "      <td>0.000000</td>\n",
              "      <td>0.000000</td>\n",
              "      <td>0.000000</td>\n",
              "      <td>1.000000</td>\n",
              "      <td>1.000000</td>\n",
              "      <td>0.000000</td>\n",
              "      <td>0.000000</td>\n",
              "      <td>0.000000</td>\n",
              "      <td>1.000000</td>\n",
              "      <td>3.000000</td>\n",
              "    </tr>\n",
              "    <tr>\n",
              "      <th>75%</th>\n",
              "      <td>1.000000</td>\n",
              "      <td>1.000000</td>\n",
              "      <td>1.000000</td>\n",
              "      <td>1.000000</td>\n",
              "      <td>1.000000</td>\n",
              "      <td>1.000000</td>\n",
              "      <td>0.000000</td>\n",
              "      <td>0.000000</td>\n",
              "      <td>1.000000</td>\n",
              "      <td>1.000000</td>\n",
              "      <td>3.000000</td>\n",
              "    </tr>\n",
              "    <tr>\n",
              "      <th>max</th>\n",
              "      <td>1.000000</td>\n",
              "      <td>1.000000</td>\n",
              "      <td>1.000000</td>\n",
              "      <td>1.000000</td>\n",
              "      <td>1.000000</td>\n",
              "      <td>1.000000</td>\n",
              "      <td>1.000000</td>\n",
              "      <td>1.000000</td>\n",
              "      <td>1.000000</td>\n",
              "      <td>1.000000</td>\n",
              "      <td>3.000000</td>\n",
              "    </tr>\n",
              "  </tbody>\n",
              "</table>\n",
              "</div>\n",
              "      <button class=\"colab-df-convert\" onclick=\"convertToInteractive('df-226ea5ff-11d7-4274-9bca-ea70449d41bc')\"\n",
              "              title=\"Convert this dataframe to an interactive table.\"\n",
              "              style=\"display:none;\">\n",
              "        \n",
              "  <svg xmlns=\"http://www.w3.org/2000/svg\" height=\"24px\"viewBox=\"0 0 24 24\"\n",
              "       width=\"24px\">\n",
              "    <path d=\"M0 0h24v24H0V0z\" fill=\"none\"/>\n",
              "    <path d=\"M18.56 5.44l.94 2.06.94-2.06 2.06-.94-2.06-.94-.94-2.06-.94 2.06-2.06.94zm-11 1L8.5 8.5l.94-2.06 2.06-.94-2.06-.94L8.5 2.5l-.94 2.06-2.06.94zm10 10l.94 2.06.94-2.06 2.06-.94-2.06-.94-.94-2.06-.94 2.06-2.06.94z\"/><path d=\"M17.41 7.96l-1.37-1.37c-.4-.4-.92-.59-1.43-.59-.52 0-1.04.2-1.43.59L10.3 9.45l-7.72 7.72c-.78.78-.78 2.05 0 2.83L4 21.41c.39.39.9.59 1.41.59.51 0 1.02-.2 1.41-.59l7.78-7.78 2.81-2.81c.8-.78.8-2.07 0-2.86zM5.41 20L4 18.59l7.72-7.72 1.47 1.35L5.41 20z\"/>\n",
              "  </svg>\n",
              "      </button>\n",
              "      \n",
              "  <style>\n",
              "    .colab-df-container {\n",
              "      display:flex;\n",
              "      flex-wrap:wrap;\n",
              "      gap: 12px;\n",
              "    }\n",
              "\n",
              "    .colab-df-convert {\n",
              "      background-color: #E8F0FE;\n",
              "      border: none;\n",
              "      border-radius: 50%;\n",
              "      cursor: pointer;\n",
              "      display: none;\n",
              "      fill: #1967D2;\n",
              "      height: 32px;\n",
              "      padding: 0 0 0 0;\n",
              "      width: 32px;\n",
              "    }\n",
              "\n",
              "    .colab-df-convert:hover {\n",
              "      background-color: #E2EBFA;\n",
              "      box-shadow: 0px 1px 2px rgba(60, 64, 67, 0.3), 0px 1px 3px 1px rgba(60, 64, 67, 0.15);\n",
              "      fill: #174EA6;\n",
              "    }\n",
              "\n",
              "    [theme=dark] .colab-df-convert {\n",
              "      background-color: #3B4455;\n",
              "      fill: #D2E3FC;\n",
              "    }\n",
              "\n",
              "    [theme=dark] .colab-df-convert:hover {\n",
              "      background-color: #434B5C;\n",
              "      box-shadow: 0px 1px 3px 1px rgba(0, 0, 0, 0.15);\n",
              "      filter: drop-shadow(0px 1px 2px rgba(0, 0, 0, 0.3));\n",
              "      fill: #FFFFFF;\n",
              "    }\n",
              "  </style>\n",
              "\n",
              "      <script>\n",
              "        const buttonEl =\n",
              "          document.querySelector('#df-226ea5ff-11d7-4274-9bca-ea70449d41bc button.colab-df-convert');\n",
              "        buttonEl.style.display =\n",
              "          google.colab.kernel.accessAllowed ? 'block' : 'none';\n",
              "\n",
              "        async function convertToInteractive(key) {\n",
              "          const element = document.querySelector('#df-226ea5ff-11d7-4274-9bca-ea70449d41bc');\n",
              "          const dataTable =\n",
              "            await google.colab.kernel.invokeFunction('convertToInteractive',\n",
              "                                                     [key], {});\n",
              "          if (!dataTable) return;\n",
              "\n",
              "          const docLinkHtml = 'Like what you see? Visit the ' +\n",
              "            '<a target=\"_blank\" href=https://colab.research.google.com/notebooks/data_table.ipynb>data table notebook</a>'\n",
              "            + ' to learn more about interactive tables.';\n",
              "          element.innerHTML = '';\n",
              "          dataTable['output_type'] = 'display_data';\n",
              "          await google.colab.output.renderOutput(dataTable, element);\n",
              "          const docLink = document.createElement('div');\n",
              "          docLink.innerHTML = docLinkHtml;\n",
              "          element.appendChild(docLink);\n",
              "        }\n",
              "      </script>\n",
              "    </div>\n",
              "  </div>\n",
              "  "
            ]
          },
          "metadata": {},
          "execution_count": 4
        }
      ],
      "source": [
        "data.describe()"
      ]
    },
    {
      "cell_type": "code",
      "execution_count": null,
      "metadata": {
        "id": "Wiepg6AeHbQ9",
        "colab": {
          "base_uri": "https://localhost:8080/",
          "height": 424
        },
        "outputId": "5f3bc073-5052-4a06-fe97-34f2a29f2e64"
      },
      "outputs": [
        {
          "output_type": "execute_result",
          "data": {
            "text/plain": [
              "     PERUT TERASA MEMBESAR  PERUT KEMBUNG  NYERI PERUT  MUAL/MUNTAH  \\\n",
              "50               -2.317406      -0.954521    -0.858705     1.072381   \n",
              "26                0.431517       1.047645    -0.858705    -0.932505   \n",
              "17               -2.317406      -0.954521    -0.858705     1.072381   \n",
              "158               0.431517       1.047645     1.164545     1.072381   \n",
              "81                0.431517      -0.954521    -0.858705    -0.932505   \n",
              "130               0.431517      -0.954521     1.164545     1.072381   \n",
              "74               -2.317406       1.047645    -0.858705    -0.932505   \n",
              "38                0.431517      -0.954521    -0.858705     1.072381   \n",
              "36                0.431517      -0.954521    -0.858705    -0.932505   \n",
              "153               0.431517      -0.954521    -0.858705    -0.932505   \n",
              "\n",
              "     NAFSU MAKAN MENURUN  CEPAT KENYANG  GANGGUAN BAK  GANGGUAN BAB  \\\n",
              "50             -1.207122      -1.023533     -0.331176     -0.392890   \n",
              "26              0.828417       0.977008     -0.331176     -0.392890   \n",
              "17              0.828417      -1.023533     -0.331176     -0.392890   \n",
              "158            -1.207122      -1.023533     -0.331176      2.545243   \n",
              "81             -1.207122      -1.023533     -0.331176     -0.392890   \n",
              "130             0.828417       0.977008     -0.331176     -0.392890   \n",
              "74             -1.207122      -1.023533     -0.331176     -0.392890   \n",
              "38              0.828417       0.977008      3.019544     -0.392890   \n",
              "36              0.828417      -1.023533     -0.331176     -0.392890   \n",
              "153             0.828417      -1.023533     -0.331176     -0.392890   \n",
              "\n",
              "     GANGGUAN MENSTRUASI  PENURUNAN BB  BENIGN/MALIGNANCY  \n",
              "50             -0.818476     -1.267304                  2  \n",
              "26             -0.818476      0.789076                  2  \n",
              "17             -0.818476      0.789076                  2  \n",
              "158             1.221783     -1.267304                  3  \n",
              "81             -0.818476     -1.267304                  2  \n",
              "130             1.221783      0.789076                  3  \n",
              "74             -0.818476     -1.267304                  2  \n",
              "38             -0.818476      0.789076                  2  \n",
              "36             -0.818476      0.789076                  2  \n",
              "153            -0.818476      0.789076                  3  "
            ],
            "text/html": [
              "\n",
              "  <div id=\"df-a948bcf2-17f3-4c93-9420-f311d586bb0d\">\n",
              "    <div class=\"colab-df-container\">\n",
              "      <div>\n",
              "<style scoped>\n",
              "    .dataframe tbody tr th:only-of-type {\n",
              "        vertical-align: middle;\n",
              "    }\n",
              "\n",
              "    .dataframe tbody tr th {\n",
              "        vertical-align: top;\n",
              "    }\n",
              "\n",
              "    .dataframe thead th {\n",
              "        text-align: right;\n",
              "    }\n",
              "</style>\n",
              "<table border=\"1\" class=\"dataframe\">\n",
              "  <thead>\n",
              "    <tr style=\"text-align: right;\">\n",
              "      <th></th>\n",
              "      <th>PERUT TERASA MEMBESAR</th>\n",
              "      <th>PERUT KEMBUNG</th>\n",
              "      <th>NYERI PERUT</th>\n",
              "      <th>MUAL/MUNTAH</th>\n",
              "      <th>NAFSU MAKAN MENURUN</th>\n",
              "      <th>CEPAT KENYANG</th>\n",
              "      <th>GANGGUAN BAK</th>\n",
              "      <th>GANGGUAN BAB</th>\n",
              "      <th>GANGGUAN MENSTRUASI</th>\n",
              "      <th>PENURUNAN BB</th>\n",
              "      <th>BENIGN/MALIGNANCY</th>\n",
              "    </tr>\n",
              "  </thead>\n",
              "  <tbody>\n",
              "    <tr>\n",
              "      <th>50</th>\n",
              "      <td>-2.317406</td>\n",
              "      <td>-0.954521</td>\n",
              "      <td>-0.858705</td>\n",
              "      <td>1.072381</td>\n",
              "      <td>-1.207122</td>\n",
              "      <td>-1.023533</td>\n",
              "      <td>-0.331176</td>\n",
              "      <td>-0.392890</td>\n",
              "      <td>-0.818476</td>\n",
              "      <td>-1.267304</td>\n",
              "      <td>2</td>\n",
              "    </tr>\n",
              "    <tr>\n",
              "      <th>26</th>\n",
              "      <td>0.431517</td>\n",
              "      <td>1.047645</td>\n",
              "      <td>-0.858705</td>\n",
              "      <td>-0.932505</td>\n",
              "      <td>0.828417</td>\n",
              "      <td>0.977008</td>\n",
              "      <td>-0.331176</td>\n",
              "      <td>-0.392890</td>\n",
              "      <td>-0.818476</td>\n",
              "      <td>0.789076</td>\n",
              "      <td>2</td>\n",
              "    </tr>\n",
              "    <tr>\n",
              "      <th>17</th>\n",
              "      <td>-2.317406</td>\n",
              "      <td>-0.954521</td>\n",
              "      <td>-0.858705</td>\n",
              "      <td>1.072381</td>\n",
              "      <td>0.828417</td>\n",
              "      <td>-1.023533</td>\n",
              "      <td>-0.331176</td>\n",
              "      <td>-0.392890</td>\n",
              "      <td>-0.818476</td>\n",
              "      <td>0.789076</td>\n",
              "      <td>2</td>\n",
              "    </tr>\n",
              "    <tr>\n",
              "      <th>158</th>\n",
              "      <td>0.431517</td>\n",
              "      <td>1.047645</td>\n",
              "      <td>1.164545</td>\n",
              "      <td>1.072381</td>\n",
              "      <td>-1.207122</td>\n",
              "      <td>-1.023533</td>\n",
              "      <td>-0.331176</td>\n",
              "      <td>2.545243</td>\n",
              "      <td>1.221783</td>\n",
              "      <td>-1.267304</td>\n",
              "      <td>3</td>\n",
              "    </tr>\n",
              "    <tr>\n",
              "      <th>81</th>\n",
              "      <td>0.431517</td>\n",
              "      <td>-0.954521</td>\n",
              "      <td>-0.858705</td>\n",
              "      <td>-0.932505</td>\n",
              "      <td>-1.207122</td>\n",
              "      <td>-1.023533</td>\n",
              "      <td>-0.331176</td>\n",
              "      <td>-0.392890</td>\n",
              "      <td>-0.818476</td>\n",
              "      <td>-1.267304</td>\n",
              "      <td>2</td>\n",
              "    </tr>\n",
              "    <tr>\n",
              "      <th>130</th>\n",
              "      <td>0.431517</td>\n",
              "      <td>-0.954521</td>\n",
              "      <td>1.164545</td>\n",
              "      <td>1.072381</td>\n",
              "      <td>0.828417</td>\n",
              "      <td>0.977008</td>\n",
              "      <td>-0.331176</td>\n",
              "      <td>-0.392890</td>\n",
              "      <td>1.221783</td>\n",
              "      <td>0.789076</td>\n",
              "      <td>3</td>\n",
              "    </tr>\n",
              "    <tr>\n",
              "      <th>74</th>\n",
              "      <td>-2.317406</td>\n",
              "      <td>1.047645</td>\n",
              "      <td>-0.858705</td>\n",
              "      <td>-0.932505</td>\n",
              "      <td>-1.207122</td>\n",
              "      <td>-1.023533</td>\n",
              "      <td>-0.331176</td>\n",
              "      <td>-0.392890</td>\n",
              "      <td>-0.818476</td>\n",
              "      <td>-1.267304</td>\n",
              "      <td>2</td>\n",
              "    </tr>\n",
              "    <tr>\n",
              "      <th>38</th>\n",
              "      <td>0.431517</td>\n",
              "      <td>-0.954521</td>\n",
              "      <td>-0.858705</td>\n",
              "      <td>1.072381</td>\n",
              "      <td>0.828417</td>\n",
              "      <td>0.977008</td>\n",
              "      <td>3.019544</td>\n",
              "      <td>-0.392890</td>\n",
              "      <td>-0.818476</td>\n",
              "      <td>0.789076</td>\n",
              "      <td>2</td>\n",
              "    </tr>\n",
              "    <tr>\n",
              "      <th>36</th>\n",
              "      <td>0.431517</td>\n",
              "      <td>-0.954521</td>\n",
              "      <td>-0.858705</td>\n",
              "      <td>-0.932505</td>\n",
              "      <td>0.828417</td>\n",
              "      <td>-1.023533</td>\n",
              "      <td>-0.331176</td>\n",
              "      <td>-0.392890</td>\n",
              "      <td>-0.818476</td>\n",
              "      <td>0.789076</td>\n",
              "      <td>2</td>\n",
              "    </tr>\n",
              "    <tr>\n",
              "      <th>153</th>\n",
              "      <td>0.431517</td>\n",
              "      <td>-0.954521</td>\n",
              "      <td>-0.858705</td>\n",
              "      <td>-0.932505</td>\n",
              "      <td>0.828417</td>\n",
              "      <td>-1.023533</td>\n",
              "      <td>-0.331176</td>\n",
              "      <td>-0.392890</td>\n",
              "      <td>-0.818476</td>\n",
              "      <td>0.789076</td>\n",
              "      <td>3</td>\n",
              "    </tr>\n",
              "  </tbody>\n",
              "</table>\n",
              "</div>\n",
              "      <button class=\"colab-df-convert\" onclick=\"convertToInteractive('df-a948bcf2-17f3-4c93-9420-f311d586bb0d')\"\n",
              "              title=\"Convert this dataframe to an interactive table.\"\n",
              "              style=\"display:none;\">\n",
              "        \n",
              "  <svg xmlns=\"http://www.w3.org/2000/svg\" height=\"24px\"viewBox=\"0 0 24 24\"\n",
              "       width=\"24px\">\n",
              "    <path d=\"M0 0h24v24H0V0z\" fill=\"none\"/>\n",
              "    <path d=\"M18.56 5.44l.94 2.06.94-2.06 2.06-.94-2.06-.94-.94-2.06-.94 2.06-2.06.94zm-11 1L8.5 8.5l.94-2.06 2.06-.94-2.06-.94L8.5 2.5l-.94 2.06-2.06.94zm10 10l.94 2.06.94-2.06 2.06-.94-2.06-.94-.94-2.06-.94 2.06-2.06.94z\"/><path d=\"M17.41 7.96l-1.37-1.37c-.4-.4-.92-.59-1.43-.59-.52 0-1.04.2-1.43.59L10.3 9.45l-7.72 7.72c-.78.78-.78 2.05 0 2.83L4 21.41c.39.39.9.59 1.41.59.51 0 1.02-.2 1.41-.59l7.78-7.78 2.81-2.81c.8-.78.8-2.07 0-2.86zM5.41 20L4 18.59l7.72-7.72 1.47 1.35L5.41 20z\"/>\n",
              "  </svg>\n",
              "      </button>\n",
              "      \n",
              "  <style>\n",
              "    .colab-df-container {\n",
              "      display:flex;\n",
              "      flex-wrap:wrap;\n",
              "      gap: 12px;\n",
              "    }\n",
              "\n",
              "    .colab-df-convert {\n",
              "      background-color: #E8F0FE;\n",
              "      border: none;\n",
              "      border-radius: 50%;\n",
              "      cursor: pointer;\n",
              "      display: none;\n",
              "      fill: #1967D2;\n",
              "      height: 32px;\n",
              "      padding: 0 0 0 0;\n",
              "      width: 32px;\n",
              "    }\n",
              "\n",
              "    .colab-df-convert:hover {\n",
              "      background-color: #E2EBFA;\n",
              "      box-shadow: 0px 1px 2px rgba(60, 64, 67, 0.3), 0px 1px 3px 1px rgba(60, 64, 67, 0.15);\n",
              "      fill: #174EA6;\n",
              "    }\n",
              "\n",
              "    [theme=dark] .colab-df-convert {\n",
              "      background-color: #3B4455;\n",
              "      fill: #D2E3FC;\n",
              "    }\n",
              "\n",
              "    [theme=dark] .colab-df-convert:hover {\n",
              "      background-color: #434B5C;\n",
              "      box-shadow: 0px 1px 3px 1px rgba(0, 0, 0, 0.15);\n",
              "      filter: drop-shadow(0px 1px 2px rgba(0, 0, 0, 0.3));\n",
              "      fill: #FFFFFF;\n",
              "    }\n",
              "  </style>\n",
              "\n",
              "      <script>\n",
              "        const buttonEl =\n",
              "          document.querySelector('#df-a948bcf2-17f3-4c93-9420-f311d586bb0d button.colab-df-convert');\n",
              "        buttonEl.style.display =\n",
              "          google.colab.kernel.accessAllowed ? 'block' : 'none';\n",
              "\n",
              "        async function convertToInteractive(key) {\n",
              "          const element = document.querySelector('#df-a948bcf2-17f3-4c93-9420-f311d586bb0d');\n",
              "          const dataTable =\n",
              "            await google.colab.kernel.invokeFunction('convertToInteractive',\n",
              "                                                     [key], {});\n",
              "          if (!dataTable) return;\n",
              "\n",
              "          const docLinkHtml = 'Like what you see? Visit the ' +\n",
              "            '<a target=\"_blank\" href=https://colab.research.google.com/notebooks/data_table.ipynb>data table notebook</a>'\n",
              "            + ' to learn more about interactive tables.';\n",
              "          element.innerHTML = '';\n",
              "          dataTable['output_type'] = 'display_data';\n",
              "          await google.colab.output.renderOutput(dataTable, element);\n",
              "          const docLink = document.createElement('div');\n",
              "          docLink.innerHTML = docLinkHtml;\n",
              "          element.appendChild(docLink);\n",
              "        }\n",
              "      </script>\n",
              "    </div>\n",
              "  </div>\n",
              "  "
            ]
          },
          "metadata": {},
          "execution_count": 5
        }
      ],
      "source": [
        "scaling = StandardScaler()\n",
        "\n",
        "for col in [\"PERUT TERASA MEMBESAR\", \"PERUT KEMBUNG\", \"NYERI PERUT\", \"MUAL/MUNTAH\", \"NAFSU MAKAN MENURUN\", \"CEPAT KENYANG\", \"GANGGUAN BAK\", \"GANGGUAN BAB\", \"GANGGUAN MENSTRUASI\", \"PENURUNAN BB\"]:\n",
        "  data[col] = scaling.fit_transform(data[col].values.reshape(-1,1))\n",
        "data.head()\n",
        "data.sample(10)"
      ]
    },
    {
      "cell_type": "markdown",
      "metadata": {
        "id": "qJEVQ6cyIVX1"
      },
      "source": [
        "### **Split Data**"
      ]
    },
    {
      "cell_type": "code",
      "execution_count": null,
      "metadata": {
        "id": "rIRhgTVcIYB9"
      },
      "outputs": [],
      "source": [
        "X = data.iloc[:,:-1]\n",
        "y = data.iloc[:,-1]"
      ]
    },
    {
      "cell_type": "code",
      "execution_count": null,
      "metadata": {
        "id": "usB7PG_0IsEr"
      },
      "outputs": [],
      "source": [
        "X_train,X_test, y_train,y_test = train_test_split(X,y,test_size=0.3, random_state=0)"
      ]
    },
    {
      "cell_type": "code",
      "execution_count": null,
      "metadata": {
        "id": "Nj9pt69YJk7n",
        "colab": {
          "base_uri": "https://localhost:8080/"
        },
        "outputId": "55996192-c234-4ce9-e32c-7b355ce742fd"
      },
      "outputs": [
        {
          "output_type": "execute_result",
          "data": {
            "text/plain": [
              "(52, 10)"
            ]
          },
          "metadata": {},
          "execution_count": 8
        }
      ],
      "source": [
        "X_test.shape"
      ]
    },
    {
      "cell_type": "markdown",
      "metadata": {
        "id": "yHMk0B-WZk3e"
      },
      "source": [
        "### KNN"
      ]
    },
    {
      "cell_type": "markdown",
      "metadata": {
        "id": "aE4igys6ZpCh"
      },
      "source": [
        "Looping untuk mendapatkan K dengan akurasi tertinggi"
      ]
    },
    {
      "cell_type": "code",
      "execution_count": null,
      "metadata": {
        "id": "wjwce6yZKDS_"
      },
      "outputs": [],
      "source": [
        "k_range = range(1,len(X_test)+1)\n",
        "scores = {}\n",
        "scores_list = []\n",
        "for k in k_range:\n",
        "  knn = KNeighborsClassifier(n_neighbors=k)\n",
        "  knn.fit(X_train,y_train)\n",
        "  y_pred = knn.predict(X_test)\n",
        "  scores[k] = accuracy_score(y_test, y_pred)\n",
        "  scores_list.append(accuracy_score(y_test,y_pred))"
      ]
    },
    {
      "cell_type": "code",
      "execution_count": null,
      "metadata": {
        "id": "iTzVXp97Kw7t",
        "colab": {
          "base_uri": "https://localhost:8080/",
          "height": 296
        },
        "outputId": "f9730bee-9925-425a-af43-6478723e3cef"
      },
      "outputs": [
        {
          "output_type": "execute_result",
          "data": {
            "text/plain": [
              "Text(0, 0.5, 'testing accuracy')"
            ]
          },
          "metadata": {},
          "execution_count": 10
        },
        {
          "output_type": "display_data",
          "data": {
            "text/plain": [
              "<Figure size 432x288 with 1 Axes>"
            ],
            "image/png": "[encoded data removed]"
          },
          "metadata": {
            "needs_background": "light"
          }
        }
      ],
      "source": [
        "%matplotlib inline\n",
        "import matplotlib.pyplot as plt\n",
        "plt.plot(k_range,scores_list)\n",
        "plt.xlabel('value of K for KNN')\n",
        "plt.ylabel('testing accuracy')"
      ]
    },
    {
      "cell_type": "code",
      "execution_count": null,
      "metadata": {
        "id": "1ZhMpBufLSNn",
        "colab": {
          "base_uri": "https://localhost:8080/"
        },
        "outputId": "d0ac0f9e-96de-48e2-df94-ddd84e7e6b00"
      },
      "outputs": [
        {
          "output_type": "execute_result",
          "data": {
            "text/plain": [
              "KNeighborsClassifier(n_neighbors=7)"
            ]
          },
          "metadata": {},
          "execution_count": 11
        }
      ],
      "source": [
        "knn = KNeighborsClassifier(n_neighbors=7)\n",
        "knn.fit(X_train,y_train)"
      ]
    },
    {
      "cell_type": "code",
      "execution_count": null,
      "metadata": {
        "id": "rggPwVC7LvCx",
        "colab": {
          "base_uri": "https://localhost:8080/"
        },
        "outputId": "1f183a57-ca12-4765-bd82-37c302ee6c4d"
      },
      "outputs": [
        {
          "output_type": "stream",
          "name": "stdout",
          "text": [
            "Y asli      =  [2 2 2 3 2 2 3 3 3 2 2 3 3 2 3 2 3 2 3 3 3 2 3 3 2 3 2 3 3 3 2 2 2 2 2 2 2\n",
            " 3 2 3 2 3 3 3 3 3 3 2 2 2 2 3]\n",
            "Y_prediksi  =  [2 2 2 3 2 2 3 3 3 2 2 3 3 2 3 3 3 2 3 3 3 2 3 3 2 3 2 3 3 2 2 2 2 2 3 2 2\n",
            " 2 2 3 2 3 3 3 3 3 3 2 2 2 2 3]\n"
          ]
        }
      ],
      "source": [
        "y_prediksi=knn.predict(X_test)\n",
        "\n",
        "print(\"Y asli      = \",y_test.values)\n",
        "print(\"Y_prediksi  = \",y_prediksi)"
      ]
    },
    {
      "cell_type": "code",
      "execution_count": null,
      "metadata": {
        "id": "aTOOOugIMSnm",
        "colab": {
          "base_uri": "https://localhost:8080/"
        },
        "outputId": "3b1cfa37-7a54-4001-c729-8570a984bfd8"
      },
      "outputs": [
        {
          "output_type": "execute_result",
          "data": {
            "text/plain": [
              "(24, 2, 2, 24)"
            ]
          },
          "metadata": {},
          "execution_count": 13
        }
      ],
      "source": [
        "tn, fp, fn, tp = confusion_matrix(y_test, y_prediksi).ravel()\n",
        "tn, fp, fn, tp"
      ]
    },
    {
      "cell_type": "code",
      "execution_count": null,
      "metadata": {
        "id": "ox3a9u6qeZT5",
        "colab": {
          "base_uri": "https://localhost:8080/"
        },
        "outputId": "36f72fc8-bda6-4fb4-fe3c-cee2350b0962"
      },
      "outputs": [
        {
          "output_type": "stream",
          "name": "stdout",
          "text": [
            "Akurasi =  0.923\n",
            "Error Rate =  0.077\n",
            "Recall =  0.923\n",
            "Specificity =  0.923\n",
            "Precision =  0.923\n",
            "F-Score =  0.923\n"
          ]
        }
      ],
      "source": [
        "akurasi = (tp + tn) / (tp + fp + tn + fn)\n",
        "er = (fp + fn) / (tp + fp + tn + fn)\n",
        "recall = tp / (tp + fn)\n",
        "specificity = tn / (fp + tn)\n",
        "precision = tp / (tp + fp)\n",
        "fscore = (2 * precision * recall) / (precision + recall)\n",
        "print(\"Akurasi = \", round(akurasi,3))\n",
        "print(\"Error Rate = \", round(er,3))\n",
        "print(\"Recall = \", round(recall,3))\n",
        "print(\"Specificity = \", round(specificity,3))\n",
        "print(\"Precision = \", round(precision,3))\n",
        "print(\"F-Score = \", round(fscore,3))\n"
      ]
    }
  ],
  "metadata": {
    "colab": {
      "collapsed_sections": [],
      "name": "KNN_Zuhairi.ipynb",
      "provenance": []
    },
    "kernelspec": {
      "display_name": "Python 3",
      "name": "python3"
    },
    "language_info": {
      "name": "python"
    }
  },
  "nbformat": 4,
  "nbformat_minor": 0
}